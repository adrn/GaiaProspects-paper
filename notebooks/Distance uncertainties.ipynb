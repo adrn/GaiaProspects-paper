{
 "cells": [
  {
   "cell_type": "code",
   "execution_count": null,
   "metadata": {
    "collapsed": true
   },
   "outputs": [],
   "source": [
    "import matplotlib.pyplot as pl\n",
    "pl.style.use('apw-notebook')\n",
    "%matplotlib inline"
   ]
  },
  {
   "cell_type": "code",
   "execution_count": null,
   "metadata": {
    "collapsed": false
   },
   "outputs": [],
   "source": [
    "import astropy.units as u\n",
    "import numpy as np\n",
    "from pygaia.errors.astrometric import parallaxErrorSkyAvg, properMotionErrorSkyAvg\n",
    "from pygaia.photometry.transformations import gminvFromVmini\n",
    "\n",
    "from gary.observation import distance, distance_modulus"
   ]
  },
  {
   "cell_type": "code",
   "execution_count": null,
   "metadata": {
    "collapsed": false
   },
   "outputs": [],
   "source": [
    "n_samples = 16384\n",
    "D = np.logspace(-1, 3, 256)*u.kpc # 5*u.kpc\n",
    "plx = D.to(u.microarcsecond, equivalencies=u.parallax())\n",
    "DM = distance_modulus(D)"
   ]
  },
  {
   "cell_type": "code",
   "execution_count": null,
   "metadata": {
    "collapsed": true
   },
   "outputs": [],
   "source": [
    "def fractional_scatter(M_V, scatter):\n",
    "    dm = distance_modulus(D)\n",
    "    m = dm + M_V\n",
    "    \n",
    "    m_scatter = np.random.normal(m, scatter, size=(n_samples, D.size))\n",
    "    dm_scatter = m_scatter - M_V\n",
    "    sigma_D = np.std(distance(dm_scatter).to(u.kpc), axis=0)\n",
    "    \n",
    "    return m,sigma_D,np.median((sigma_D / D).value)"
   ]
  },
  {
   "cell_type": "code",
   "execution_count": null,
   "metadata": {
    "collapsed": true
   },
   "outputs": [],
   "source": [
    "def parallax_plot(m_G, V_I):\n",
    "    sigma_plx = parallaxErrorSkyAvg(m_G, V_I) * u.microarcsecond\n",
    "    pl.loglog(D, sigma_plx / plx, ls='-', lw=2, marker=None)\n",
    "\n",
    "    pl.xlabel(\"$d$ [kpc]\")\n",
    "    pl.ylabel(r\"$\\sigma_\\pi / \\pi$\")"
   ]
  },
  {
   "cell_type": "code",
   "execution_count": null,
   "metadata": {
    "collapsed": true
   },
   "outputs": [],
   "source": [
    "names = [\"name\", \"M_V\", \"V-I\", \"M_G\", \"phot_err\"]\n",
    "all_types = []"
   ]
  },
  {
   "cell_type": "markdown",
   "metadata": {},
   "source": [
    "## MSTO"
   ]
  },
  {
   "cell_type": "code",
   "execution_count": null,
   "metadata": {
    "collapsed": false
   },
   "outputs": [],
   "source": [
    "M_V = 4.\n",
    "V_I = 0.50\n",
    "\n",
    "M_G = gminvFromVmini(V_I) + M_V\n",
    "m_G = DM + M_G"
   ]
  },
  {
   "cell_type": "code",
   "execution_count": null,
   "metadata": {
    "collapsed": false
   },
   "outputs": [],
   "source": [
    "scatter = 0.9\n",
    "m,sig_D,frac_scatter_single = fractional_scatter(M_V, scatter)\n",
    "frac_scatter_single"
   ]
  },
  {
   "cell_type": "code",
   "execution_count": null,
   "metadata": {
    "collapsed": false
   },
   "outputs": [],
   "source": [
    "all_types.append(['MSTO', M_V, V_I, M_G, frac_scatter_single])"
   ]
  },
  {
   "cell_type": "markdown",
   "metadata": {},
   "source": [
    "A population of MSTO stars"
   ]
  },
  {
   "cell_type": "code",
   "execution_count": null,
   "metadata": {
    "collapsed": false
   },
   "outputs": [],
   "source": [
    "scatter = 0.2\n",
    "m,sig_D,frac_scatter_many = fractional_scatter(M_V, scatter)\n",
    "frac_scatter_many"
   ]
  },
  {
   "cell_type": "markdown",
   "metadata": {},
   "source": [
    "Parallax errors"
   ]
  },
  {
   "cell_type": "code",
   "execution_count": null,
   "metadata": {
    "collapsed": false
   },
   "outputs": [],
   "source": [
    "parallax_plot(m_G, V_I)\n",
    "pl.axhline(frac_scatter_single)\n",
    "pl.axhline(frac_scatter_many, linestyle='--')"
   ]
  },
  {
   "cell_type": "markdown",
   "metadata": {},
   "source": [
    "## BHB"
   ]
  },
  {
   "cell_type": "code",
   "execution_count": null,
   "metadata": {
    "collapsed": false
   },
   "outputs": [],
   "source": [
    "M_V = 0.5\n",
    "V_I = -0.16\n",
    "scatter = 0.15\n",
    "\n",
    "M_G = gminvFromVmini(V_I) + M_V\n",
    "m_G = distance_modulus(D) + M_G\n",
    "\n",
    "m,sig_D,frac_scatter = fractional_scatter(M_V, scatter)\n",
    "print(frac_scatter)\n",
    "\n",
    "all_types.append(['BHB', M_V, V_I, M_G, frac_scatter])"
   ]
  },
  {
   "cell_type": "code",
   "execution_count": null,
   "metadata": {
    "collapsed": false
   },
   "outputs": [],
   "source": [
    "parallax_plot(m_G, V_I)\n",
    "pl.axhline(frac_scatter)"
   ]
  },
  {
   "cell_type": "markdown",
   "metadata": {},
   "source": [
    "## RRL"
   ]
  },
  {
   "cell_type": "code",
   "execution_count": null,
   "metadata": {
    "collapsed": false
   },
   "outputs": [],
   "source": [
    "M_V = 0.5\n",
    "V_I = 0.24\n",
    "scatter = 0.15\n",
    "\n",
    "M_G = gminvFromVmini(V_I) + M_V\n",
    "m_G = distance_modulus(D) + M_G\n",
    "\n",
    "m,sig_D,frac_scatter = fractional_scatter(M_V, scatter)\n",
    "print(frac_scatter)\n",
    "\n",
    "all_types.append(['RRL', M_V, V_I, M_G, 0.02])"
   ]
  },
  {
   "cell_type": "code",
   "execution_count": null,
   "metadata": {
    "collapsed": false
   },
   "outputs": [],
   "source": [
    "parallax_plot(m_G, V_I)\n",
    "pl.axhline(frac_scatter)\n",
    "pl.axhline(0.02, ls='--')"
   ]
  },
  {
   "cell_type": "markdown",
   "metadata": {},
   "source": [
    "## Red clump\n",
    "\n",
    "http://arxiv.org/abs/astro-ph/0208057"
   ]
  },
  {
   "cell_type": "code",
   "execution_count": null,
   "metadata": {
    "collapsed": false
   },
   "outputs": [],
   "source": [
    "M_V = 0.7 \n",
    "V_I = 0.8\n",
    "scatter = 0.2\n",
    "\n",
    "M_G = gminvFromVmini(V_I) + M_V\n",
    "m_G = distance_modulus(D) + M_G\n",
    "\n",
    "m,sig_D,frac_scatter = fractional_scatter(M_V, scatter)\n",
    "print(frac_scatter)\n",
    "\n",
    "all_types.append(['RC', M_V, V_I, M_G, frac_scatter])"
   ]
  },
  {
   "cell_type": "code",
   "execution_count": null,
   "metadata": {
    "collapsed": false
   },
   "outputs": [],
   "source": [
    "parallax_plot(m_G, V_I)\n",
    "pl.axhline(frac_scatter)"
   ]
  },
  {
   "cell_type": "markdown",
   "metadata": {},
   "source": [
    "## K giant"
   ]
  },
  {
   "cell_type": "code",
   "execution_count": null,
   "metadata": {
    "collapsed": false
   },
   "outputs": [],
   "source": [
    "M_V = -1. # 1 to -3\n",
    "V_I = 0.75\n",
    "scatter = 0.4 # Xue, X. et al. 2014\n",
    "\n",
    "M_G = gminvFromVmini(V_I) + M_V\n",
    "m_G = distance_modulus(D) + M_G\n",
    "\n",
    "m,sig_D,frac_scatter = fractional_scatter(M_V, scatter)\n",
    "print(frac_scatter)\n",
    "\n",
    "all_types.append(['KG', M_V, V_I, M_G, frac_scatter])"
   ]
  },
  {
   "cell_type": "code",
   "execution_count": null,
   "metadata": {
    "collapsed": false
   },
   "outputs": [],
   "source": [
    "parallax_plot(m_G, V_I)\n",
    "pl.axhline(frac_scatter)"
   ]
  },
  {
   "cell_type": "markdown",
   "metadata": {},
   "source": [
    "## M giant\n",
    "\n",
    "https://ui.adsabs.harvard.edu/#abs/2000AJ....120.2550M/abstract"
   ]
  },
  {
   "cell_type": "code",
   "execution_count": null,
   "metadata": {
    "collapsed": false
   },
   "outputs": [],
   "source": [
    "M_V = -1. # 1 to -3\n",
    "V_I = 1.67\n",
    "scatter = 0.45\n",
    "\n",
    "M_G = gminvFromVmini(V_I) + M_V\n",
    "m_G = distance_modulus(D) + M_G\n",
    "\n",
    "m,sig_D,frac_scatter = fractional_scatter(M_V, scatter)\n",
    "print(frac_scatter)\n",
    "\n",
    "all_types.append(['MG', M_V, V_I, M_G, frac_scatter])"
   ]
  },
  {
   "cell_type": "code",
   "execution_count": null,
   "metadata": {
    "collapsed": false
   },
   "outputs": [],
   "source": [
    "parallax_plot(m_G, V_I)\n",
    "pl.axhline(frac_scatter)"
   ]
  },
  {
   "cell_type": "markdown",
   "metadata": {
    "collapsed": true
   },
   "source": [
    "---\n",
    "\n",
    "## All together now"
   ]
  },
  {
   "cell_type": "code",
   "execution_count": null,
   "metadata": {
    "collapsed": true
   },
   "outputs": [],
   "source": [
    "from astropy.table import Table"
   ]
  },
  {
   "cell_type": "code",
   "execution_count": null,
   "metadata": {
    "collapsed": false
   },
   "outputs": [],
   "source": [
    "dtype = [str] + [float]*(len(names)-1)\n",
    "tbl = Table(np.array(all_types), names=names, dtype=dtype)"
   ]
  },
  {
   "cell_type": "code",
   "execution_count": null,
   "metadata": {
    "collapsed": true
   },
   "outputs": [],
   "source": [
    "colors = [\"#a6d96a\", \"#542788\", \"#4393c3\", \"#8c510a\", \"#e08214\", \"#d73027\"]\n",
    "styles = ['-', '--', '-', '-.', ':', '--']\n",
    "\n",
    "xlim = (1,250) # kpc\n",
    "xticks = [1, 10, 100, 250]"
   ]
  },
  {
   "cell_type": "markdown",
   "metadata": {},
   "source": [
    "### Absolute parallax error"
   ]
  },
  {
   "cell_type": "code",
   "execution_count": null,
   "metadata": {
    "collapsed": false
   },
   "outputs": [],
   "source": [
    "fig,ax = pl.subplots(1,1,figsize=(5.2,5.2))\n",
    "\n",
    "for row,c,s in zip(tbl, colors, styles):\n",
    "    m_G = DM + row['M_G']\n",
    "    sigma_plx = parallaxErrorSkyAvg(m_G, row['V-I']) * u.microarcsecond\n",
    "    \n",
    "    err = sigma_plx\n",
    "#     err[err > row['phot_err']] = row['phot_err']\n",
    "    \n",
    "    ax.loglog(D, err.value, color=c, ls=s, lw=3, marker=None, label=row['name'])\n",
    "    \n",
    "ax.set_xlabel(\"$d$ [kpc]\")\n",
    "ax.set_ylabel(r\"$\\sigma_\\pi$ [$\\mu$as]\")\n",
    "ax.set_ylim(1e0, 1e6)\n",
    "\n",
    "ax.set_xlim(xlim)\n",
    "ax.set_xticks(xticks)\n",
    "ax.set_xticklabels([str(x) for x in xticks])\n",
    "\n",
    "# ax.set_yticks([1e-2,1e-1,1e0])\n",
    "# ax.set_yticklabels([\"1%\",\"10%\",\"100%\"])\n",
    "\n",
    "ax.legend(loc='upper left', ncol=3)\n",
    "\n",
    "fig.tight_layout()\n",
    "fig.savefig(\"../figures/plx-err.pdf\")\n",
    "fig.savefig(\"../figures/plx-err.png\", dpi=400)"
   ]
  },
  {
   "cell_type": "markdown",
   "metadata": {},
   "source": [
    "### Fractional distance / parallax error"
   ]
  },
  {
   "cell_type": "code",
   "execution_count": null,
   "metadata": {
    "collapsed": false
   },
   "outputs": [],
   "source": [
    "fig,ax = pl.subplots(1,1,figsize=(5.2,5.2))\n",
    "\n",
    "for row,c,s in zip(tbl, colors, styles):\n",
    "    m_G = DM + row['M_G']\n",
    "    sigma_plx = parallaxErrorSkyAvg(m_G, row['V-I']) * u.microarcsecond\n",
    "    \n",
    "    err = sigma_plx / plx\n",
    "    err[err > row['phot_err']] = row['phot_err']\n",
    "    \n",
    "    ax.loglog(D, err, color=c, ls=s, lw=3, marker=None, label=row['name'])\n",
    "    \n",
    "ax.set_xlabel(\"$d$ [kpc]\")\n",
    "ax.set_ylabel(r\"$\\sigma_d / d$\")\n",
    "ax.set_ylim(1e-2, 1.)\n",
    "\n",
    "ax.set_xlim(xlim)\n",
    "ax.set_xticks(xticks)\n",
    "ax.set_xticklabels([str(x) for x in xticks])\n",
    "\n",
    "ax.set_yticks([1e-2,1e-1,1e0])\n",
    "ax.set_yticklabels([\"1%\",\"10%\",\"100%\"])\n",
    "\n",
    "# ax.legend(loc='upper left', ncol=3)\n",
    "\n",
    "fig.tight_layout()\n",
    "fig.savefig(\"../figures/frac-plx-err.pdf\")\n",
    "fig.savefig(\"../figures/frac-plx-err.png\", dpi=400)"
   ]
  },
  {
   "cell_type": "markdown",
   "metadata": {},
   "source": [
    "### Proper motion error"
   ]
  },
  {
   "cell_type": "code",
   "execution_count": null,
   "metadata": {
    "collapsed": false
   },
   "outputs": [],
   "source": [
    "fig,ax = pl.subplots(1,1,figsize=(5.2,5.2))\n",
    "\n",
    "for row,c,s in zip(tbl, colors, styles):\n",
    "    m_G = DM + row['M_G']\n",
    "    \n",
    "    # now velocity stuff\n",
    "    sigma_pm = properMotionErrorSkyAvg(m_G, row['V-I']) * u.microarcsecond/u.yr    \n",
    "    sigma_pm = np.sqrt(np.sum(sigma_pm**2, axis=0))\n",
    "    ax.loglog(D, sigma_pm.value, color=c, ls=s, lw=3, marker=None, label=row['name'])\n",
    "    \n",
    "ax.set_xlabel(\"$d$ [kpc]\")\n",
    "ax.set_ylabel(r\"$\\sigma_{\\rm \\mu}$ [$\\mu$as/yr]\")\n",
    "ax.set_ylim(1, 1e6)\n",
    "\n",
    "ax.set_xlim(xlim)\n",
    "ax.set_xticks(xticks)\n",
    "ax.set_xticklabels([str(x) for x in xticks])\n",
    "\n",
    "# ax.set_yticks([1,10,100])\n",
    "# ax.set_yticklabels([\"1\",\"10\",\"100\"])\n",
    "\n",
    "# ax.legend(loc='upper left')\n",
    "\n",
    "fig.tight_layout()\n",
    "\n",
    "fig.savefig(\"../figures/pm-err.pdf\")\n",
    "fig.savefig(\"../figures/pm-err.png\", dpi=400)"
   ]
  },
  {
   "cell_type": "markdown",
   "metadata": {},
   "source": [
    "### Tangential velocity error"
   ]
  },
  {
   "cell_type": "code",
   "execution_count": null,
   "metadata": {
    "collapsed": false
   },
   "outputs": [],
   "source": [
    "assumed_v = 100. * u.km/u.s\n",
    "assumed_pm = (assumed_v / D).to(u.microarcsecond/u.yr, equivalencies=u.dimensionless_angles())\n",
    "\n",
    "fig,ax = pl.subplots(1,1,figsize=(5.2,5.2))\n",
    "\n",
    "for row,c,s in zip(tbl, colors, styles):\n",
    "    m_G = DM + row['M_G']\n",
    "    sigma_plx = parallaxErrorSkyAvg(m_G, row['V-I']) * u.microarcsecond\n",
    "    err = sigma_plx / plx\n",
    "    err[err > row['phot_err']] = row['phot_err']\n",
    "    \n",
    "    # now velocity stuff\n",
    "    sigma_pm = properMotionErrorSkyAvg(m_G, row['V-I']) * u.microarcsecond/u.yr\n",
    "    sigma_pm = np.sqrt(np.sum(sigma_pm**2, axis=0))\n",
    "    \n",
    "    term1 = (D**2 * sigma_pm**2).to(u.km**2/u.s**2, equivalencies=u.dimensionless_angles())\n",
    "    term2 = ((D*err)**2 * assumed_pm**2).to(u.km**2/u.s**2, equivalencies=u.dimensionless_angles())\n",
    "    \n",
    "    vtan_err = np.sqrt(term1 + term2)\n",
    "    ax.loglog(D, vtan_err, color=c, ls=s, lw=3, marker=None, label=row['name'])\n",
    "    \n",
    "ax.set_xlabel(\"$d$ [kpc]\")\n",
    "ax.set_ylabel(r\"$\\sigma_{\\rm v_{tan}}$ [km/s]\")\n",
    "ax.set_ylim(1, 100.)\n",
    "\n",
    "ax.set_xlim(xlim)\n",
    "ax.set_xticks(xticks)\n",
    "ax.set_xticklabels([str(x) for x in xticks])\n",
    "\n",
    "ax.set_yticks([1,10,100])\n",
    "ax.set_yticklabels([\"1\",\"10\",\"100\"])\n",
    "\n",
    "# ax.legend(loc='upper left')\n",
    "\n",
    "fig.tight_layout()\n",
    "fig.savefig(\"../figures/vtan-err.pdf\")\n",
    "fig.savefig(\"../figures/vtan-err.png\", dpi=400)"
   ]
  },
  {
   "cell_type": "code",
   "execution_count": null,
   "metadata": {
    "collapsed": true
   },
   "outputs": [],
   "source": []
  }
 ],
 "metadata": {
  "kernelspec": {
   "display_name": "Python 3",
   "language": "python",
   "name": "python3"
  },
  "language_info": {
   "codemirror_mode": {
    "name": "ipython",
    "version": 3
   },
   "file_extension": ".py",
   "mimetype": "text/x-python",
   "name": "python",
   "nbconvert_exporter": "python",
   "pygments_lexer": "ipython3",
   "version": "3.5.1"
  }
 },
 "nbformat": 4,
 "nbformat_minor": 0
}