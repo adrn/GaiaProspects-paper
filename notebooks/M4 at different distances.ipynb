{
 "cells": [
  {
   "cell_type": "markdown",
   "metadata": {},
   "source": [
    "Simulation is from:\n",
    "http://astrowiki.ph.surrey.ac.uk/dokuwiki/doku.php?id=tests:collision:mock_data"
   ]
  },
  {
   "cell_type": "code",
   "execution_count": null,
   "metadata": {
    "collapsed": true
   },
   "outputs": [],
   "source": [
    "from io import StringIO\n",
    "\n",
    "import matplotlib\n",
    "import matplotlib.pyplot as pl\n",
    "pl.style.use('apw-notebook')\n",
    "%matplotlib inline\n",
    "\n",
    "import astropy.units as u\n",
    "import numpy as np\n",
    "from scipy.interpolate import interp1d\n",
    "from pygaia.errors.photometric import gMagnitudeError, bpMagnitudeError, rpMagnitudeError\n",
    "from pygaia.errors.astrometric import parallaxErrorSkyAvg, properMotionErrorSkyAvg\n",
    "from pygaia.photometry.transformations import gminvFromVmini\n",
    "\n",
    "from gary.observation import distance, distance_modulus"
   ]
  },
  {
   "cell_type": "code",
   "execution_count": null,
   "metadata": {
    "collapsed": true
   },
   "outputs": [],
   "source": [
    "D = 16*u.kpc\n",
    "DM = distance_modulus(D)"
   ]
  },
  {
   "cell_type": "markdown",
   "metadata": {},
   "source": [
    "Each line:\n",
    "mass (Msun), three coordinates of position (pc), three components of velocity (km/s), the type of the star (Hurley, Pols & Tout 2000, MNRAS, 315, pp.546-7), the luminosity (Lsun), the stellar radius (Henon units), M_V, B-V."
   ]
  },
  {
   "cell_type": "code",
   "execution_count": null,
   "metadata": {
    "collapsed": true
   },
   "outputs": [],
   "source": [
    "files = np.genfromtxt(\"/Users/adrian/Downloads/files.dat\", dtype=None,\n",
    "                      names=['time','total_N','Npairs','x','y','z'])\n",
    "N_read = files['total_N'] - files['Npairs']\n",
    "N_read = N_read[np.abs(files['time'] - 12023.).argmin()]"
   ]
  },
  {
   "cell_type": "code",
   "execution_count": null,
   "metadata": {
    "collapsed": false
   },
   "outputs": [],
   "source": [
    "names = ['mass', 'x','y','z', 'vx','vy','vz', 'stype', 'Lum', 'radius', 'M_V', 'B-V']\n",
    "d = np.genfromtxt(\"/Users/adrian/Downloads/m4_simulation_12023.9.dat\", names=names, dtype=None,\n",
    "                  max_rows=N_read)"
   ]
  },
  {
   "cell_type": "code",
   "execution_count": null,
   "metadata": {
    "collapsed": false
   },
   "outputs": [],
   "source": [
    "d = d[d['stype'] < 10] # eliminate WDs, BHs, NSs, etc."
   ]
  },
  {
   "cell_type": "markdown",
   "metadata": {},
   "source": [
    "### Transform B-V to V-Ic using a hack from http://www.stsci.edu/~inr/intrins.html"
   ]
  },
  {
   "cell_type": "code",
   "execution_count": null,
   "metadata": {
    "collapsed": false
   },
   "outputs": [],
   "source": [
    "color_transform_tbl = np.genfromtxt(\"/Users/adrian/Downloads/cousins.txt\", usecols=[2,4])\n",
    "BV_to_VI = interp1d(color_transform_tbl[:,0], color_transform_tbl[:,1], kind='linear', bounds_error=False)\n",
    "V_I = BV_to_VI(d['BV'])\n",
    "\n",
    "M_G = d['M_V'] + gminvFromVmini(V_I)\n",
    "m_G = M_G + DM"
   ]
  },
  {
   "cell_type": "code",
   "execution_count": null,
   "metadata": {
    "collapsed": false
   },
   "outputs": [],
   "source": [
    "pl.plot(d['BV'], V_I, ls='none')"
   ]
  },
  {
   "cell_type": "markdown",
   "metadata": {},
   "source": [
    "---"
   ]
  },
  {
   "cell_type": "markdown",
   "metadata": {},
   "source": [
    "Gaia errors"
   ]
  },
  {
   "cell_type": "code",
   "execution_count": null,
   "metadata": {
    "collapsed": false,
    "scrolled": true
   },
   "outputs": [],
   "source": [
    "dmG = gMagnitudeError(m_G)\n",
    "pm_err = properMotionErrorSkyAvg(m_G, V_I) * u.microarcsecond/u.yr\n",
    "pm_err = np.sqrt(pm_err[0]**2 + pm_err[1]**2).to(u.mas/u.yr)"
   ]
  },
  {
   "cell_type": "code",
   "execution_count": null,
   "metadata": {
    "collapsed": false
   },
   "outputs": [],
   "source": [
    "obs_m_G = np.random.normal(m_G, dmG)\n",
    "# obs_V_I = \n",
    "\n",
    "# TODO: for color, estimate SDSS g-r, LSST g-r, WFIRST ??"
   ]
  },
  {
   "cell_type": "code",
   "execution_count": null,
   "metadata": {
    "collapsed": false
   },
   "outputs": [],
   "source": [
    "fig,axes = pl.subplots(1,2,figsize=(8,5),sharex=True,sharey=True)\n",
    "\n",
    "axes[0].plot(V_I, m_G, ls='none', marker='.', alpha=0.2)\n",
    "axes[1].plot(obs_V_I, obs_m_G, ls='none', marker='.', alpha=0.2)\n",
    "\n",
    "axes[0].set_xlim(-0.25,1.7)\n",
    "axes[0].set_ylim(27.5,12)"
   ]
  },
  {
   "cell_type": "code",
   "execution_count": null,
   "metadata": {
    "collapsed": true
   },
   "outputs": [],
   "source": []
  },
  {
   "cell_type": "code",
   "execution_count": null,
   "metadata": {
    "collapsed": true
   },
   "outputs": [],
   "source": []
  },
  {
   "cell_type": "code",
   "execution_count": null,
   "metadata": {
    "collapsed": true
   },
   "outputs": [],
   "source": []
  },
  {
   "cell_type": "code",
   "execution_count": null,
   "metadata": {
    "collapsed": true
   },
   "outputs": [],
   "source": []
  },
  {
   "cell_type": "code",
   "execution_count": null,
   "metadata": {
    "collapsed": true
   },
   "outputs": [],
   "source": []
  },
  {
   "cell_type": "code",
   "execution_count": null,
   "metadata": {
    "collapsed": true
   },
   "outputs": [],
   "source": []
  },
  {
   "cell_type": "code",
   "execution_count": null,
   "metadata": {
    "collapsed": true
   },
   "outputs": [],
   "source": []
  },
  {
   "cell_type": "code",
   "execution_count": null,
   "metadata": {
    "collapsed": false
   },
   "outputs": [],
   "source": [
    "obs_m_G = np.random.normal(m_G, d_m_G)\n",
    "obs_V_I = np.random.normal(V_I, np.sqrt(2)*d_m_G)"
   ]
  },
  {
   "cell_type": "markdown",
   "metadata": {},
   "source": [
    "TODO: tangential velocity error will depend on distance error - maybe make plot for 5 tracers identified instead?"
   ]
  },
  {
   "cell_type": "code",
   "execution_count": null,
   "metadata": {
    "collapsed": false
   },
   "outputs": [],
   "source": [
    "vtan_err = (D*pm_err).to(u.km/u.s, equivalencies=u.dimensionless_angles()).value\n",
    "idx = vtan_err < 25."
   ]
  },
  {
   "cell_type": "code",
   "execution_count": null,
   "metadata": {
    "collapsed": false
   },
   "outputs": [],
   "source": [
    "pl.figure(figsize=(6,8))\n",
    "\n",
    "pl.scatter(obs_V_I[idx], obs_m_G[idx], c=vtan_err[idx], cmap='viridis',\n",
    "           vmin=1E-1, vmax=25, norm=matplotlib.colors.LogNorm(),\n",
    "           marker='o', alpha=0.1)\n",
    "\n",
    "pl.colorbar()\n",
    "pl.xlim(-0.25,1.7)\n",
    "pl.ylim(27.5,12)"
   ]
  },
  {
   "cell_type": "code",
   "execution_count": null,
   "metadata": {
    "collapsed": true
   },
   "outputs": [],
   "source": []
  }
 ],
 "metadata": {
  "kernelspec": {
   "display_name": "Python 3",
   "language": "python",
   "name": "python3"
  },
  "language_info": {
   "codemirror_mode": {
    "name": "ipython",
    "version": 3
   },
   "file_extension": ".py",
   "mimetype": "text/x-python",
   "name": "python",
   "nbconvert_exporter": "python",
   "pygments_lexer": "ipython3",
   "version": "3.5.1"
  }
 },
 "nbformat": 4,
 "nbformat_minor": 0
}